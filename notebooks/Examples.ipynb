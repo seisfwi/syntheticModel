{
 "cells": [
  {
   "cell_type": "code",
   "execution_count": null,
   "metadata": {
    "scrolled": true
   },
   "outputs": [],
   "source": [
    "import numpy as np\n",
    "import matplotlib.pyplot as plt\n",
    "\n",
    "import syntheticModel\n",
    "\n",
    "hyper=syntheticModel.hypercube(ns=[40,1000,100],ds=[5,5,50])\n",
    "mod=syntheticModel.geoModel(hyper,{\"velocity\": 4000},\"velocity\")\n",
    "depositB=syntheticModel.deposit(thick=88,interbedPropDev=80,interbedThickAvg=4.2,noiseZStretch=1.,noiseFreq=.4,\\\n",
    "interbedDev=3.0,interbedFreq=5.,interbedZStretch=5.,\\\n",
    "  interbedThickDev=3.2,prop=3500,noiseDev=1.,noiseOctaves=3,noisePersistence=.9,noiseAbs=False)\n",
    "mod=depositB.apply(mod)\n",
    "mod=depositB.apply(mod,prop=3000,thick=140)\n",
    "mod=syntheticModel.deposit(thick=140,interbedPropVar=130,prop=3200).apply(mod)\n",
    "mod=syntheticModel.deposit(thick=200,interbedPropVar=80,prop=3500).apply(mod)\n",
    "mod=syntheticModel.deposit(thick=140,interbedPropVar=130,prop=2800).apply(mod)\n",
    "mod=syntheticModel.squish(widthInLine=100,widthCrossLine=100,max=30).apply(mod)\n",
    "mod=syntheticModel.deposit(thick=3,interbedPropVar=50,prop=2300,var=.1).apply(mod)\n",
    "mod3=syntheticModel.chimneyBig(pockMark=True,uplift=.06,width=.05,center2=.8,depth=.2).apply(mod)\n",
    "mod3=syntheticModel.chimneySmall(pockMark=True,uplift=.04,width=.02,center2=.43,depth=.6).apply(mod3)\n",
    "mod3=syntheticModel.chimneySmall(pockMark=True,uplift=.06,width=.05,center2=.2,depth=.3).apply(mod3)\n",
    "mod3=syntheticModel.chimneySmall(pockMark=True,uplift=.06,width=.023,center2=.5,depth=.7).apply(mod3)\n",
    "\n",
    "damp=mod3.get(\"damp\").getNdArray();\n",
    "vel=mod3.get(\"velocity\").getNdArray()\n",
    "lay=mod3.getIntField(\"layer\").getNdArray()\n",
    "plt.rcParams[\"figure.figsize\"]=[18,10]\n",
    "\n",
    "plt.imshow(np.transpose(vel[50,:,]),aspect=\"auto\")"
   ]
  },
  {
   "cell_type": "code",
   "execution_count": null,
   "metadata": {
    "scrolled": true
   },
   "outputs": [],
   "source": [
    "plt.imshow(np.transpose(vel[:,:,65]),aspect=\"auto\")"
   ]
  },
  {
   "cell_type": "code",
   "execution_count": null,
   "metadata": {
    "scrolled": true
   },
   "outputs": [],
   "source": [
    "import numpy as nphimney.small\n",
    "import matplotlib.pyplot as plt\n",
    "import syntheticModel.simplexNoise\n",
    "a=np.zeros((40,500,100))\n",
    "x=np.linspace(0,1.,40,dtype=np.float32)\n",
    "y=np.linspace(1,2.,500,dtype=np.float32)\n",
    "z=np.linspace(2.,3.,100,dtype=np.float32)\n",
    "a1,a2,a3=np.meshgrid(y,x,z)\n",
    "ns=syntheticModel.simplexNoise.simplexNoise()\n",
    "b=ns.getNoise(10,0.,1.,a3,a2,a1)\n",
    "plt.imshow(np.transpose(b.getNdArray()[20,:,:]),aspect=\"auto\")"
   ]
  },
  {
   "cell_type": "code",
   "execution_count": null,
   "metadata": {
    "scrolled": true
   },
   "outputs": [],
   "source": [
    "plt.imshow(np.transpose(damp[50,:,:]),vmin=0, vmax=1)"
   ]
  },
  {
   "cell_type": "code",
   "execution_count": null,
   "metadata": {},
   "outputs": [],
   "source": [
    "\n",
    "import scipy\n",
    "plt.rcParams[\"figure.figsize\"]=[18,10]\n",
    "\n",
    "ref2=syntheticModel.reflectivityDamp(vel,damp)\n",
    "wavelet=scipy.signal.ricker(64,1.5)\n",
    "image=syntheticModel.convolve(ref2,wavelet)\n",
    "plt.imshow(np.transpose(image[50,:,:]),cmap='seismic',aspect=\"auto\",vmin=-220,vmax=220)"
   ]
  },
  {
   "cell_type": "code",
   "execution_count": null,
   "metadata": {},
   "outputs": [],
   "source": [
    "plt.imshow(np.transpose(damp[4,400:600,100:400]),cmap=\"gray\",aspect=\"auto\")"
   ]
  },
  {
   "cell_type": "code",
   "execution_count": null,
   "metadata": {},
   "outputs": [],
   "source": []
  },
  {
   "cell_type": "code",
   "execution_count": null,
   "metadata": {},
   "outputs": [],
   "source": []
  },
  {
   "cell_type": "code",
   "execution_count": null,
   "metadata": {},
   "outputs": [],
   "source": []
  },
  {
   "cell_type": "code",
   "execution_count": null,
   "metadata": {},
   "outputs": [],
   "source": []
  },
  {
   "cell_type": "code",
   "execution_count": null,
   "metadata": {},
   "outputs": [],
   "source": []
  },
  {
   "cell_type": "code",
   "execution_count": null,
   "metadata": {},
   "outputs": [],
   "source": []
  },
  {
   "cell_type": "code",
   "execution_count": null,
   "metadata": {},
   "outputs": [],
   "source": []
  }
 ],
 "metadata": {
  "kernelspec": {
   "display_name": "Python 3 (ipykernel)",
   "language": "python",
   "name": "python3"
  },
  "language_info": {
   "codemirror_mode": {
    "name": "ipython",
    "version": 3
   },
   "file_extension": ".py",
   "mimetype": "text/x-python",
   "name": "python",
   "nbconvert_exporter": "python",
   "pygments_lexer": "ipython3",
   "version": "3.9.7"
  }
 },
 "nbformat": 4,
 "nbformat_minor": 4
}
